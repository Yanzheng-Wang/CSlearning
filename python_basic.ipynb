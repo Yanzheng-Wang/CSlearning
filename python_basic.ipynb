{
 "cells": [
  {
   "cell_type": "markdown",
   "id": "cbb3226e",
   "metadata": {},
   "source": [
    "### 函数\n"
   ]
  },
  {
   "cell_type": "code",
   "execution_count": 7,
   "id": "69fca7d7",
   "metadata": {},
   "outputs": [
    {
     "name": "stdout",
     "output_type": "stream",
     "text": [
      "aaa\n",
      "This is a function\n",
      "3\n"
     ]
    }
   ],
   "source": [
    "def function():\n",
    "\n",
    "    print(\"aaa\")\n",
    "    print(\"This is a function\")\n",
    "    a = 1 + 2\n",
    "    print(a)\n",
    "function()"
   ]
  },
  {
   "cell_type": "code",
   "execution_count": 8,
   "id": "4a48b513",
   "metadata": {},
   "outputs": [
    {
     "name": "stdout",
     "output_type": "stream",
     "text": [
      "2 * 4 == 8\n"
     ]
    }
   ],
   "source": [
    "def fun(a, b):\n",
    "    print(f\"{a} * {b} == {a*b}\")\n",
    "fun(2,4)"
   ]
  },
  {
   "cell_type": "code",
   "execution_count": 9,
   "id": "299e57fd",
   "metadata": {},
   "outputs": [
    {
     "name": "stdout",
     "output_type": "stream",
     "text": [
      "price:1000\n",
      " color: red \n",
      "brand: carmy \n",
      "is_second_hand: False\n"
     ]
    }
   ],
   "source": [
    "def sale_car(price, color, brand, is_second_hand = \"False\", ):\n",
    "    print(f'price:{price}\\n',\n",
    "          'color:',color,\n",
    "          '\\nbrand:',brand,\n",
    "          '\\nis_second_hand:',is_second_hand\n",
    "          )\n",
    "sale_car(1000,\"red\",\"carmy\")"
   ]
  },
  {
   "cell_type": "markdown",
   "id": "8c93835f",
   "metadata": {},
   "source": [
    "#### 全局&局部变量\n",
    "global  \n",
    "local"
   ]
  },
  {
   "cell_type": "code",
   "execution_count": 10,
   "id": "4e77d303",
   "metadata": {},
   "outputs": [
    {
     "name": "stdout",
     "output_type": "stream",
     "text": [
      "a past 10\n",
      "120\n",
      "a now 20\n"
     ]
    }
   ],
   "source": [
    "APPLE = 100\n",
    "a = 10\n",
    "def fun2():\n",
    "    global a\n",
    "    a = 20\n",
    "    return a + APPLE\n",
    "print(f\"a past {a}\")\n",
    "print(fun2())\n",
    "print(f\"a now {a}\")"
   ]
  },
  {
   "cell_type": "markdown",
   "id": "b084c130",
   "metadata": {},
   "source": [
    "### 外部module\n",
    "1. macOS\n",
    "\n",
    "   下载 ： sudo pip3 install + 库名\n",
    "\n",
    "   卸载 ： sudo pip3 install + \n",
    "\n",
    "   更新 ： sudo pip3 install -U +\n"
   ]
  },
  {
   "cell_type": "code",
   "execution_count": 11,
   "id": "84fc1acf",
   "metadata": {},
   "outputs": [
    {
     "name": "stdout",
     "output_type": "stream",
     "text": [
      "time.struct_time(tm_year=2025, tm_mon=7, tm_mday=16, tm_hour=19, tm_min=38, tm_sec=4, tm_wday=2, tm_yday=197, tm_isdst=0)\n"
     ]
    },
    {
     "data": {
      "text/plain": [
       "1752665884.362378"
      ]
     },
     "execution_count": 11,
     "metadata": {},
     "output_type": "execute_result"
    }
   ],
   "source": [
    "import time as t\n",
    "from time import *\n",
    "print(t.localtime(  \n",
    "))\n",
    "t.time()"
   ]
  },
  {
   "cell_type": "code",
   "execution_count": 12,
   "id": "c2d234eb",
   "metadata": {},
   "outputs": [
    {
     "name": "stdout",
     "output_type": "stream",
     "text": [
      "this is m1\n",
      "hhhhh\n"
     ]
    }
   ],
   "source": [
    "import m1\n",
    "\n",
    "m1.print_data(\"hhhhh\")"
   ]
  },
  {
   "cell_type": "code",
   "execution_count": null,
   "id": "d910d73c",
   "metadata": {},
   "outputs": [
    {
     "name": "stdout",
     "output_type": "stream",
     "text": [
      "['/opt/anaconda3/lib/python3.12/site-packages']\n"
     ]
    }
   ],
   "source": [
    "### 查看python库在哪里\n",
    "import site\n",
    "print(site.getsitepackages())"
   ]
  },
  {
   "cell_type": "code",
   "execution_count": 6,
   "id": "f8b2cba6",
   "metadata": {},
   "outputs": [
    {
     "name": "stdout",
     "output_type": "stream",
     "text": [
      "['/Users/lorenzocaleb/projects/CSlearning', '/opt/anaconda3/lib/python312.zip', '/opt/anaconda3/lib/python3.12', '/opt/anaconda3/lib/python3.12/lib-dynload', '', '/opt/anaconda3/lib/python3.12/site-packages', '/opt/anaconda3/lib/python3.12/site-packages/aeosa', '/opt/anaconda3/lib/python3.12/site-packages/setuptools/_vendor']\n"
     ]
    }
   ],
   "source": [
    "### 查看所有python的路径\n",
    "import sys\n",
    "print(sys.path)"
   ]
  },
  {
   "cell_type": "code",
   "execution_count": 2,
   "id": "6f828e96",
   "metadata": {},
   "outputs": [
    {
     "name": "stdout",
     "output_type": "stream",
     "text": [
      "2.0.1\n",
      "0.24.0\n"
     ]
    }
   ],
   "source": [
    "### 查看库的版本\n",
    "import numpy as np\n",
    "print(np.__version__)       ### name.__version__  \n",
    "import cartopy\n",
    "print(cartopy.__version__)  ### name.__version__"
   ]
  },
  {
   "cell_type": "markdown",
   "id": "91bd3d94",
   "metadata": {},
   "source": [
    "### 文件读写\n"
   ]
  },
  {
   "cell_type": "code",
   "execution_count": 15,
   "id": "4ba606c3",
   "metadata": {},
   "outputs": [],
   "source": [
    "text = 'This is my first text\\nThis is next line\\nThis is next text'\n",
    "# print(text)\n",
    "append_text = \"\\nThis is appended line\""
   ]
  },
  {
   "cell_type": "code",
   "execution_count": 16,
   "id": "f15b5b88",
   "metadata": {},
   "outputs": [],
   "source": [
    "### 写文件o\n",
    "my_file = open(\"my file.txt\", \"a\") ### r --read , w --write , a -- append\n",
    "my_file.write(append_text)\n",
    "my_file.close()"
   ]
  },
  {
   "cell_type": "code",
   "execution_count": 17,
   "id": "431619a2",
   "metadata": {},
   "outputs": [
    {
     "name": "stdout",
     "output_type": "stream",
     "text": [
      "This is my first text\n",
      "This is next line\n",
      "\n"
     ]
    }
   ],
   "source": [
    "### 读文件\n",
    "file = open(\"my file.txt\", 'r')\n",
    "# content = file.read()\n",
    "# content2 = file.readlines()         ### readlines()列表形式全部输出 \n",
    "# print结果 ['This is my first text\\n', 'This is next line\\n', 'This is next text\\n', 'This is appended line']\n",
    "\n",
    "### ps: 读了一次全部之后就不能在读了，下面一次一次读可以给出解释\n",
    "content2 = file.readline()\n",
    "second_read = file.readline()\n",
    "print(content2, second_read , sep = \"\")"
   ]
  },
  {
   "cell_type": "markdown",
   "id": "d5a15470",
   "metadata": {},
   "source": [
    "### class类\n",
    "1.函数要有**self**，来访问类里面的变量  \n",
    "2.**init** 一个变量有默认值，那么所有变量都应该有默认值"
   ]
  },
  {
   "cell_type": "code",
   "execution_count": 18,
   "id": "c03c275a",
   "metadata": {},
   "outputs": [
    {
     "ename": "SyntaxError",
     "evalue": "parameter without a default follows parameter with a default (2774269318.py, line 5)",
     "output_type": "error",
     "traceback": [
      "\u001b[0;36m  Cell \u001b[0;32mIn[18], line 5\u001b[0;36m\u001b[0m\n\u001b[0;31m    def __init__(self, name = \"goood calculator\", price = 14,weight):\u001b[0m\n\u001b[0m                                                             ^\u001b[0m\n\u001b[0;31mSyntaxError\u001b[0m\u001b[0;31m:\u001b[0m parameter without a default follows parameter with a default\n"
     ]
    }
   ],
   "source": [
    "class Calculator:\n",
    "    # name = \"good calculator\"\n",
    "    # price = 18\n",
    "\n",
    "    def __init__(self, name = \"goood calculator\", price = 14,weight):\n",
    "        self.name = name\n",
    "        self.price = price \n",
    "        self.weight = weight\n",
    "        self.add(2,4)\n",
    "\n",
    "    def add(self, x, y):\n",
    "        # print(self.name)\n",
    "        result = x + y\n",
    "        print(result)\n",
    "    def minus(self, x, y):\n",
    "        print(x - y)\n",
    "    def times(self, x, y):\n",
    "        print(x * y)\n",
    "    def floordivide(self, x, y):\n",
    "        print(x // y)"
   ]
  },
  {
   "cell_type": "code",
   "execution_count": null,
   "id": "a2d00f68",
   "metadata": {},
   "outputs": [
    {
     "name": "stdout",
     "output_type": "stream",
     "text": [
      "6\n",
      "20\n"
     ]
    },
    {
     "data": {
      "text/plain": [
       "222"
      ]
     },
     "execution_count": 52,
     "metadata": {},
     "output_type": "execute_result"
    }
   ],
   "source": [
    "calcu = Calculator(22 ,222, 2222)\n",
    "\n",
    "# print(calcu.name)\n",
    "calcu.add(10,10)\n",
    "calcu.price\n"
   ]
  },
  {
   "cell_type": "markdown",
   "id": "c25211fc",
   "metadata": {},
   "source": [
    "### 输入输出\n",
    "\n"
   ]
  },
  {
   "cell_type": "code",
   "execution_count": null,
   "id": "c74dc56d",
   "metadata": {},
   "outputs": [
    {
     "name": "stdout",
     "output_type": "stream",
     "text": [
      "This is a good one \n"
     ]
    }
   ],
   "source": [
    "a_input = int(input(\"Please input a number :\"))\n",
    "# print(f\"you input {a_input}\")\n",
    "if a_input == 1:\n",
    "    print(\"This is a good one \")\n",
    "elif a_input == 2 :\n",
    "    print(\"See you next time\")\n",
    "else:\n",
    "    print(\"good luck\")"
   ]
  },
  {
   "cell_type": "markdown",
   "id": "87298008",
   "metadata": {},
   "source": [
    "### 元组和列表 ,字典\n",
    "\n"
   ]
  },
  {
   "cell_type": "code",
   "execution_count": null,
   "id": "ae378b49",
   "metadata": {},
   "outputs": [
    {
     "name": "stdout",
     "output_type": "stream",
     "text": [
      "index = 0, number in list = 2\n",
      "index = 1, number in list = 34\n",
      "index = 2, number in list = 4\n"
     ]
    }
   ],
   "source": [
    "a_tuple = (1, 1, 3)\n",
    "another_tuple = 1, 4, 6\n",
    "\n",
    "a_list = [2 ,34, 4]\n",
    "\n",
    "for index in range(len(a_list)):\n",
    "    print(f\"index = {index}, number in list = {a_list[index]}\")"
   ]
  },
  {
   "cell_type": "code",
   "execution_count": null,
   "id": "5188909b",
   "metadata": {},
   "outputs": [
    {
     "name": "stdout",
     "output_type": "stream",
     "text": [
      "0\n",
      "None\n"
     ]
    }
   ],
   "source": [
    "print(a_list.index(2))\n",
    "print(a_list.remove(2))\n",
    "a_list.pop()\n",
    "a_list.append(4)\n",
    "a_list.insert(1, 5)\n",
    "a_list.sort(inverse = False)\n",
    "a_list.count(2)\n",
    "\n"
   ]
  },
  {
   "cell_type": "code",
   "execution_count": null,
   "id": "d2f321ca",
   "metadata": {},
   "outputs": [],
   "source": [
    "dic = {'a': 1, 'v': \"sdsa\"}\n",
    "del dic['a']"
   ]
  },
  {
   "cell_type": "markdown",
   "id": "9a77f646",
   "metadata": {},
   "source": [
    "### continue & break"
   ]
  },
  {
   "cell_type": "code",
   "execution_count": null,
   "id": "d6b93502",
   "metadata": {},
   "outputs": [
    {
     "ename": "ValueError",
     "evalue": "invalid literal for int() with base 10: ''",
     "output_type": "error",
     "traceback": [
      "\u001b[0;31m---------------------------------------------------------------------------\u001b[0m",
      "\u001b[0;31mValueError\u001b[0m                                Traceback (most recent call last)",
      "Cell \u001b[0;32mIn[1], line 2\u001b[0m\n\u001b[1;32m      1\u001b[0m \u001b[38;5;28;01mwhile\u001b[39;00m \u001b[38;5;28;01mTrue\u001b[39;00m:\n\u001b[0;32m----> 2\u001b[0m     b \u001b[38;5;241m=\u001b[39m \u001b[38;5;28mint\u001b[39m(\u001b[38;5;28minput\u001b[39m(\u001b[38;5;124m\"\u001b[39m\u001b[38;5;124mtype something\u001b[39m\u001b[38;5;124m\"\u001b[39m))\n\u001b[1;32m      3\u001b[0m     \u001b[38;5;28;01mif\u001b[39;00m b \u001b[38;5;241m==\u001b[39m \u001b[38;5;241m1\u001b[39m:\n\u001b[1;32m      4\u001b[0m         \u001b[38;5;28;01mcontinue\u001b[39;00m\n",
      "\u001b[0;31mValueError\u001b[0m: invalid literal for int() with base 10: ''"
     ]
    }
   ],
   "source": [
    "while True:\n",
    "    b = int(input(\"type something\"))\n",
    "    if b == 1:\n",
    "        continue\n",
    "    else: \n",
    "        pass\n",
    "    print(\"still in while\")\n",
    "\n",
    "print(\"finish run\")"
   ]
  },
  {
   "cell_type": "markdown",
   "id": "41402158",
   "metadata": {},
   "source": [
    "### 错误处理 try"
   ]
  },
  {
   "cell_type": "code",
   "execution_count": null,
   "id": "2729c356",
   "metadata": {},
   "outputs": [
    {
     "name": "stdout",
     "output_type": "stream",
     "text": [
      "[Errno 2] No such file or directory: 'eee'\n"
     ]
    }
   ],
   "source": [
    "try:\n",
    "    file = open(\"eee\", \"r+\")\n",
    "except Exception as e:              ### 出错\n",
    "    # print(e)\n",
    "    print(\"there is no file named as eee\")\n",
    "    response = input('do you want to create a new file')\n",
    "    if response == \"y\":\n",
    "        file = open(\"eee\", \"w\")\n",
    "    else:\n",
    "        pass\n",
    "else:       ### 未出错\n",
    "    file.write(\"sss\")\n",
    "\n",
    "file.close()"
   ]
  },
  {
   "cell_type": "markdown",
   "id": "ec3b0cdb",
   "metadata": {},
   "source": [
    "### zip lambda map"
   ]
  },
  {
   "cell_type": "code",
   "execution_count": null,
   "id": "6f055ed9",
   "metadata": {},
   "outputs": [
    {
     "name": "stdout",
     "output_type": "stream",
     "text": [
      "<zip object at 0x10acdce00>\n",
      "[(1, 4, 1), (2, 5, 2), (3, 6, 3)]\n",
      "6\n",
      "9\n",
      "12\n"
     ]
    }
   ],
   "source": [
    "a = [1, 2, 3,]\n",
    "b = [4, 5, 6]\n",
    "c = [1, 2, 3]\n",
    "print(zip(a, b, c))\n",
    "print(list(zip(a,b,c)))\n",
    "\n",
    "for i, j, k in zip(a, b, c):\n",
    "    print(i + j + k)"
   ]
  },
  {
   "cell_type": "code",
   "execution_count": null,
   "id": "e347991c",
   "metadata": {},
   "outputs": [
    {
     "name": "stdout",
     "output_type": "stream",
     "text": [
      "<map object at 0x10a1a3400>\n",
      "[4, 8]\n"
     ]
    }
   ],
   "source": [
    "fun3 = lambda x, y:x+y\n",
    "print(map(fun3, [1, 2,], [3 ,6]))\n",
    "print(list(map(fun3, [2, 3], [2 ,5])))"
   ]
  },
  {
   "cell_type": "markdown",
   "id": "73f77f03",
   "metadata": {},
   "source": [
    "### 浅复制&深复制 --copy&deepcopy"
   ]
  },
  {
   "cell_type": "code",
   "execution_count": null,
   "id": "e41173b7",
   "metadata": {},
   "outputs": [
    {
     "name": "stdout",
     "output_type": "stream",
     "text": [
      "True\n",
      "False\n",
      "True\n",
      "False\n"
     ]
    }
   ],
   "source": [
    "import copy\n",
    "a = [1 ,3 ,[2, 5]]\n",
    "b = a\n",
    "print(a is b)       ### id(a) == id(b)\n",
    "c = copy.copy(a)\n",
    "d = copy.deepcopy(a)\n",
    "print(c is a)       ### id(c) != id(a)\n",
    "print(c[2] is a[2])     ### copy只能复制夫对象，子对象共用(即除存在一个内存空间)\n",
    "print(a[2] is d[2])     ### deepcopy完全复制"
   ]
  },
  {
   "cell_type": "markdown",
   "id": "9a2dd3a0",
   "metadata": {},
   "source": [
    "### threading 多线程"
   ]
  },
  {
   "cell_type": "markdown",
   "id": "5a737e4a",
   "metadata": {},
   "source": [
    "### multiprocessing 多核"
   ]
  },
  {
   "cell_type": "markdown",
   "id": "7f7a3c0f",
   "metadata": {},
   "source": [
    "### tkinter窗口"
   ]
  },
  {
   "cell_type": "markdown",
   "id": "1e27b036",
   "metadata": {},
   "source": [
    "### pickle"
   ]
  },
  {
   "cell_type": "code",
   "execution_count": null,
   "id": "9d5364f4",
   "metadata": {},
   "outputs": [],
   "source": [
    "import pickle\n",
    "\n",
    "a_dict = {\"adsa\":2, \"s2\": {\"sa\":2,}, 334:[2 ,4, \"as\"]}\n",
    "\n",
    "file = open('pickle_example.pickle', 'wb')      ### w的open就自动创建一个文件\n",
    "pickle.dump(a_dict, file)\n",
    "file.close()"
   ]
  },
  {
   "cell_type": "code",
   "execution_count": 25,
   "id": "db9df5e3",
   "metadata": {},
   "outputs": [
    {
     "name": "stdout",
     "output_type": "stream",
     "text": [
      "{'adsa': 2, 's2': {'sa': 2}, 334: [2, 4, 'as']}\n"
     ]
    }
   ],
   "source": [
    "with open('pickle_example.pickle', \"rb\") as file:   ### with 就不用考虑 close\n",
    "    a_dict1 = pickle.load(file)\n",
    "\n",
    "print(a_dict1)"
   ]
  },
  {
   "cell_type": "markdown",
   "id": "7cf7a7a0",
   "metadata": {},
   "source": [
    "### set"
   ]
  },
  {
   "cell_type": "code",
   "execution_count": 31,
   "id": "fdb4c85b",
   "metadata": {},
   "outputs": [
    {
     "name": "stdout",
     "output_type": "stream",
     "text": [
      "{'b', 'a', 'b,', 'c'}\n",
      "{' ', 'a', 'l', 'c', 'C', 'i', 't', 'n', 'o', 'e', 'W', 'm', 'h'}\n",
      "{'r', 'a', 's'}\n",
      "{'b', 'b,', 'c'}\n",
      "{'a'}\n"
     ]
    }
   ],
   "source": [
    "char_list = ['a', 'a', 'b', 'b,' , 'c']\n",
    "sentence = \"Welcome to China\"\n",
    "\n",
    "unique_char = set(char_list)\n",
    "print(unique_char)\n",
    "print(set(sentence))\n",
    "\n",
    "unique_char.add(\"x\")\n",
    "# unique_char.clear()\n",
    "unique_char.remove(\"x\")         ### 要存在\n",
    "unique_char.discard(\"y\")        ### anyway\n",
    "\n",
    "set1 = unique_char\n",
    "print(set2 := {\"a\", \"r\", 's'})\n",
    "print(set1.difference(set2))\n",
    "print(set1.intersection(set2))"
   ]
  },
  {
   "cell_type": "markdown",
   "id": "37452fe2",
   "metadata": {},
   "source": [
    "### regural expression"
   ]
  },
  {
   "cell_type": "markdown",
   "id": "5ea2a526",
   "metadata": {},
   "source": []
  },
  {
   "cell_type": "code",
   "execution_count": 2,
   "id": "e3543bb1",
   "metadata": {},
   "outputs": [],
   "source": [
    "import re"
   ]
  },
  {
   "cell_type": "code",
   "execution_count": 3,
   "id": "9c33b40f",
   "metadata": {},
   "outputs": [
    {
     "name": "stdout",
     "output_type": "stream",
     "text": [
      "<re.Match object; span=(12, 15), match='cat'>\n",
      "None\n"
     ]
    }
   ],
   "source": [
    "pattern1 = 'cat'\n",
    "pattern2 = 'bird'\n",
    "string = 'dog runs to cat'\n",
    "print(re.search(pattern1, string))\n",
    "print(re.search(pattern2, string))"
   ]
  },
  {
   "cell_type": "code",
   "execution_count": 4,
   "id": "223c3e28",
   "metadata": {},
   "outputs": [
    {
     "name": "stdout",
     "output_type": "stream",
     "text": [
      "<re.Match object; span=(4, 7), match='run'>\n"
     ]
    }
   ],
   "source": [
    "ptn = r\"r[au]n\"\n",
    "print(re.search(ptn, string))"
   ]
  },
  {
   "cell_type": "code",
   "execution_count": 6,
   "id": "9c128e7c",
   "metadata": {},
   "outputs": [
    {
     "name": "stdout",
     "output_type": "stream",
     "text": [
      "None\n",
      "None\n",
      "<re.Match object; span=(4, 7), match='run'>\n",
      "None\n"
     ]
    }
   ],
   "source": [
    "print(re.search(r\"r[A-Z]n\", string))\n",
    "print(re.search(r\"r[0-9]n\", string))\n",
    "print(re.search(r\"r[a-z]n\", string))\n",
    "print(re.search(r\"r[0-9A-Z]n\", string))\n"
   ]
  },
  {
   "cell_type": "code",
   "execution_count": null,
   "id": "f9fe7954",
   "metadata": {},
   "outputs": [
    {
     "name": "stdout",
     "output_type": "stream",
     "text": [
      "<re.Match object; span=(4, 6), match='r4'>\n",
      "<re.Match object; span=(0, 2), match='ru'>\n"
     ]
    }
   ],
   "source": [
    "print(re.search(r\"r\\d\", \"run r4n\"))\n",
    "print(re.search(r\"r\\D\", \"run r4n\"))\n",
    "### \\s,\\S       \\w,\\W       \\b,\\B"
   ]
  },
  {
   "cell_type": "code",
   "execution_count": 10,
   "id": "eee602c5",
   "metadata": {},
   "outputs": [
    {
     "name": "stdout",
     "output_type": "stream",
     "text": [
      "<re.Match object; span=(0, 5), match='runs\\\\'>\n",
      "<re.Match object; span=(0, 5), match='rsssn'>\n"
     ]
    },
    {
     "name": "stderr",
     "output_type": "stream",
     "text": [
      "<>:1: SyntaxWarning: invalid escape sequence '\\ '\n",
      "<>:1: SyntaxWarning: invalid escape sequence '\\ '\n",
      "/var/folders/d3/wlmr7q1n32gctpyllqwv6x200000gn/T/ipykernel_12091/4048094842.py:1: SyntaxWarning: invalid escape sequence '\\ '\n",
      "  print(re.search(r\"runs\\\\\", \"runs\\ to me\"))\n"
     ]
    }
   ],
   "source": [
    "print(re.search(r\"runs\\\\\", \"runs\\ to me\"))\n",
    "print(re.search(r\"r.*n\", \"rsssns to me\"))"
   ]
  },
  {
   "cell_type": "code",
   "execution_count": 12,
   "id": "4c4fedc8",
   "metadata": {},
   "outputs": [
    {
     "name": "stdout",
     "output_type": "stream",
     "text": [
      "<re.Match object; span=(0, 6), match='monday'>\n",
      "<re.Match object; span=(0, 3), match='mon'>\n"
     ]
    }
   ],
   "source": [
    "print(re.search(r\"mon(day)?\", \"monday\"))\n",
    "print(re.search(r\"mon(day)?\", \"mon\"))"
   ]
  },
  {
   "cell_type": "code",
   "execution_count": 16,
   "id": "9108b520",
   "metadata": {},
   "outputs": [
    {
     "name": "stdout",
     "output_type": "stream",
     "text": [
      "None\n",
      "<re.Match object; span=(33, 34), match='I'>\n"
     ]
    }
   ],
   "source": [
    "### $ ^\n",
    "string = \"\"\"\n",
    "            dog runs to me.\n",
    "    I        run to dog.\n",
    "            \"\"\"\n",
    "print(re.search(r\"^I\", string))\n",
    "print(re.search(r\"I\", string, flags = re.M))"
   ]
  },
  {
   "cell_type": "code",
   "execution_count": 18,
   "id": "f58a8850",
   "metadata": {},
   "outputs": [
    {
     "name": "stdout",
     "output_type": "stream",
     "text": [
      "1324134, Date:afdfsdg\n",
      "1324134\n",
      "afdfsdg\n"
     ]
    }
   ],
   "source": [
    "### * ? + {n, m}\n",
    "match = re.search(r\"(\\d+), Date:(.+)\", \"ID:1324134, Date:afdfsdg\")\n",
    "print(match.group())\n",
    "print(match.group(1))\n",
    "print(match.group(2))"
   ]
  },
  {
   "cell_type": "code",
   "execution_count": 20,
   "id": "cfd91842",
   "metadata": {},
   "outputs": [
    {
     "name": "stdout",
     "output_type": "stream",
     "text": [
      "134324\n",
      "fafdaf\n"
     ]
    }
   ],
   "source": [
    "match = re.search(r\"(?P<idd>\\d+), Date:(?P<date>.+)\", \"id:134324, Date:fafdaf\")\n",
    "print(match.group(\"idd\"))\n",
    "print(match.group(\"date\"))"
   ]
  },
  {
   "cell_type": "code",
   "execution_count": 21,
   "id": "abd44ab3",
   "metadata": {},
   "outputs": [
    {
     "name": "stdout",
     "output_type": "stream",
     "text": [
      "['run', 'ran']\n",
      "['u', 'a']\n"
     ]
    }
   ],
   "source": [
    "print(re.findall(r\"r[ua]n\", \"run ran ren\"))\n",
    "print(re.findall(r\"r(a|u)n\", \"run ran ren\"))"
   ]
  },
  {
   "cell_type": "code",
   "execution_count": 22,
   "id": "24e78a09",
   "metadata": {},
   "outputs": [
    {
     "name": "stdout",
     "output_type": "stream",
     "text": [
      "dog catches to me\n"
     ]
    }
   ],
   "source": [
    "### re.sub()    ---replace\n",
    "print(re.sub(r\"r[ua]ns\", \"catches\", \"dog runs to me\"))"
   ]
  },
  {
   "cell_type": "code",
   "execution_count": 23,
   "id": "1fe59e57",
   "metadata": {},
   "outputs": [
    {
     "name": "stdout",
     "output_type": "stream",
     "text": [
      "['a', 'c', ' ', 'dd', 'g', 'd']\n"
     ]
    }
   ],
   "source": [
    "### re.split()\n",
    "print(re.split(r\"[,.;]\",\"a,c, ;dd,g.d\"))\n"
   ]
  },
  {
   "cell_type": "code",
   "execution_count": 24,
   "id": "2e2682ba",
   "metadata": {},
   "outputs": [
    {
     "name": "stdout",
     "output_type": "stream",
     "text": [
      "<re.Match object; span=(4, 8), match='runs'>\n"
     ]
    }
   ],
   "source": [
    "### compile\n",
    "compile_re = re.compile(r\"r[ua]ns\")\n",
    "print(compile_re.search(\"dog runs to me\"))"
   ]
  },
  {
   "cell_type": "code",
   "execution_count": null,
   "id": "c24790af",
   "metadata": {},
   "outputs": [],
   "source": []
  }
 ],
 "metadata": {
  "kernelspec": {
   "display_name": "base",
   "language": "python",
   "name": "python3"
  },
  "language_info": {
   "codemirror_mode": {
    "name": "ipython",
    "version": 3
   },
   "file_extension": ".py",
   "mimetype": "text/x-python",
   "name": "python",
   "nbconvert_exporter": "python",
   "pygments_lexer": "ipython3",
   "version": "3.12.7"
  }
 },
 "nbformat": 4,
 "nbformat_minor": 5
}
